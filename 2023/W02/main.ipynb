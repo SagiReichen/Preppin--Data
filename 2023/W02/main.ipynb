{
 "cells": [
  {
   "cell_type": "code",
   "execution_count": 51,
   "metadata": {},
   "outputs": [],
   "source": [
    "import polars as pl\n",
    "from pathlib import Path\n",
    "import glob\n",
    "\n",
    "\n",
    "# ----------------------------------------------------------\n",
    "# Notebook settings \n",
    "# ----------------------------------------------------------\n",
    "pl.Config.set_tbl_cols(30)\n",
    "pl.Config.set_tbl_rows(50)\n",
    "\n",
    "\n",
    "\n",
    "# ----------------------------------------------------------\n",
    "# load and transform the tables\n",
    "# ----------------------------------------------------------\n",
    "\n",
    "files = glob.glob('*.csv')              # it gives all the csv files in current directory\n",
    "swift_codes = Path.cwd() / files[0]     # absoulte file path\n",
    "transactions = Path.cwd() / files[1]    # --\n",
    "\n",
    "\n",
    "# load the data instead of read_csv\n",
    "df_transactions = ( pl.read_csv(transactions, has_header=True, sep=\",\")\n",
    "                    .with_column(pl.col(\"Sort Code\").str.replace_all(r\"-\", \"\"))\n",
    "                  )\n",
    "\n",
    "\n",
    "df_swift = ( pl.read_csv(swift_codes, has_header=True, sep= ',') )\n",
    "\n",
    "# rename all cols to lowercase\n",
    "df_transactions.columns = list(map(lambda x: x.lower().replace(' ', '_'), df_transactions.columns))\n",
    "df_swift.columns = list(map(lambda x: x.lower().replace(' ', '_'), df_swift.columns))\n",
    "\n",
    "\n",
    "# joining the tables on Bank, and creating the country sacalar value\n",
    "df = ( df_transactions.join(df_swift, left_on=\"bank\", right_on=\"bank\", how=\"inner\") \n",
    "                      .with_column(pl.lit(\"GB\").alias(\"country\")) )\n",
    "\n",
    "\n",
    "# adding the IBAN column\n",
    "df = df.with_column( (pl.col(\"country\") + pl.col(\"check_digits\") + \n",
    "                      pl.col(\"swift_code\") + pl.col(\"sort_code\").cast(pl.Utf8) +\n",
    "                      pl.col(\"account_number\").cast(pl.Utf8))\n",
    "                      .alias(\"IBAN\"))  \n",
    "                        \n",
    "\n",
    "# Selecting only necessary fields\n",
    "df = df.select([\"transaction_id\", \"IBAN\"])\n",
    "\n",
    "\n",
    "\n",
    "# ----------------------------------------------------------\n",
    "# output to csv file\n",
    "# ----------------------------------------------------------\n",
    "\n",
    "output_path = Path.cwd() / 'output-py.csv'\n",
    "df.write_csv(output_path, has_header=True, sep=\",\")\n",
    "\n",
    "\n"
   ]
  }
 ],
 "metadata": {
  "kernelspec": {
   "display_name": "Python 3",
   "language": "python",
   "name": "python3"
  },
  "language_info": {
   "codemirror_mode": {
    "name": "ipython",
    "version": 3
   },
   "file_extension": ".py",
   "mimetype": "text/x-python",
   "name": "python",
   "nbconvert_exporter": "python",
   "pygments_lexer": "ipython3",
   "version": "3.10.0"
  },
  "orig_nbformat": 4,
  "vscode": {
   "interpreter": {
    "hash": "aee8b7b246df8f9039afb4144a1f6fd8d2ca17a180786b69acc140d282b71a49"
   }
  }
 },
 "nbformat": 4,
 "nbformat_minor": 2
}
