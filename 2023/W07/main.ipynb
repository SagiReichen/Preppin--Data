{
 "cells": [
  {
   "attachments": {},
   "cell_type": "markdown",
   "metadata": {},
   "source": [
    "##### Imports and dataframe configs"
   ]
  },
  {
   "cell_type": "code",
   "execution_count": 15,
   "metadata": {},
   "outputs": [],
   "source": [
    "from pathlib import Path\n",
    "import polars as pl\n",
    "\n",
    "pl.Config.set_tbl_rows(50)\n",
    "pl.Config.set_tbl_cols(20)\n",
    "\n",
    "CWD = Path.cwd()\n",
    "\n",
    "account_holders = CWD.joinpath('input','Account Holders.csv')\n",
    "account_info = CWD.joinpath('input','Account Information.csv')\n",
    "transaciton_detail = CWD.joinpath('input','Transaction Detail.csv')\n",
    "transaction_path = CWD.joinpath('input','Transaction Path.csv')\n"
   ]
  },
  {
   "attachments": {},
   "cell_type": "markdown",
   "metadata": {},
   "source": [
    "##### loading the data sets"
   ]
  },
  {
   "cell_type": "code",
   "execution_count": 100,
   "metadata": {},
   "outputs": [],
   "source": [
    "# transaction path table\n",
    "df_trans_path = ( pl.scan_csv(transaction_path,\n",
    "                            with_column_names=lambda cols: [col.lower().replace('_', ' ') \n",
    "                                                            for col in cols])\n",
    "                    .collect() )\n",
    "\n",
    "\n",
    "# account holders table\n",
    "df_acnt_holders = ( pl.scan_csv(account_holders, \n",
    "                                dtypes={'contact number': pl.Utf8},\n",
    "                                with_column_names=lambda cols: [col.lower() for col in cols])\n",
    "                                # amending the contact number by adding '07' at 0 position for every number\n",
    "                      .with_columns([(pl.lit('07') + pl.col('contact number')).alias('contact number'),\n",
    "                                     pl.col('date of birth').str.strptime(pl.Date, '%d/%m/%Y')])\n",
    "                      .collect() )\n",
    "\n",
    "\n",
    "# transactions detail table\n",
    "df_trans_detail = ( pl.scan_csv(transaciton_detail, \n",
    "                                dtypes={'transaction date': pl.Date},\n",
    "                                with_column_names=lambda cols: [col.lower() for col in cols]) \n",
    "                      # filter the df to only show rows above 1000 and not cancelled transactions\n",
    "                      .filter((pl.col('value') >= 1000) & (pl.col('cancelled?') == 'N'))\n",
    "                      .collect()\n",
    "                )\n",
    "\n",
    "\n",
    "# acocunt info table\n",
    "df_acnt_info = ( pl.scan_csv(account_info,\n",
    "                             dtypes={'balance date': pl.Date, 'account type': pl.Categorical},\n",
    "                             with_column_names=lambda cols: [col.lower() for col in cols])\n",
    "                   .filter(pl.col('account type') != 'Platinum')\n",
    "                   .with_columns(pl.col('account holder id').str.split(by=',',inclusive=False))\n",
    "                   .explode('account holder id')\n",
    "                   .with_columns([pl.col('account holder id').str.strip().cast(pl.Int64)])\n",
    "                   .collect()\n",
    "             )\n",
    "\n",
    "# check\n",
    "#df_acnt_info.select('account type').to_series().value_counts()\n",
    "#test_joint_number = 10034341\n",
    "#df_acnt_info.filter(pl.col('account number') == test_joint_number)\n",
    "\n",
    "df_all = ( df_acnt_info.join(df_acnt_holders, left_on='account holder id', right_on= 'account holder id',how='inner')\n",
    "                     .join(df_trans_path, left_on='account number', right_on='account from', how='inner')\n",
    "                     .join(df_trans_detail, left_on='transaction id', right_on='transaction id', how='inner')\n",
    "                     .drop(['cancelled?', 'account holder id'])\n",
    "         )\n",
    "# rename columns to follow snake format\n",
    "df_all.columns = [col.replace(' ', '_') for col in df_all.columns]\n",
    "\n",
    "#df_all\n",
    "\n"
   ]
  },
  {
   "attachments": {},
   "cell_type": "markdown",
   "metadata": {},
   "source": [
    "##### output the data set into a csv file"
   ]
  },
  {
   "cell_type": "code",
   "execution_count": 105,
   "metadata": {},
   "outputs": [],
   "source": [
    "output_dir = CWD.joinpath('output')\n",
    "\n",
    "#make new directory to store the result set\n",
    "output_dir.mkdir(parents=False, exist_ok=True)\n",
    "\n",
    "df_all.write_csv(f'{output_dir}/py-solution.csv', sep=',', has_header=True)\n"
   ]
  }
 ],
 "metadata": {
  "kernelspec": {
   "display_name": "Python 3",
   "language": "python",
   "name": "python3"
  },
  "language_info": {
   "codemirror_mode": {
    "name": "ipython",
    "version": 3
   },
   "file_extension": ".py",
   "mimetype": "text/x-python",
   "name": "python",
   "nbconvert_exporter": "python",
   "pygments_lexer": "ipython3",
   "version": "3.10.0"
  },
  "orig_nbformat": 4,
  "vscode": {
   "interpreter": {
    "hash": "7e1998ff7f8aa20ada591c520b972326324e5ea05489af9e422744c7c09f6dad"
   }
  }
 },
 "nbformat": 4,
 "nbformat_minor": 2
}
